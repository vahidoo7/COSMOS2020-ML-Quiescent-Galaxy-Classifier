{
 "cells": [
  {
   "cell_type": "markdown",
   "id": "379b3907",
   "metadata": {},
   "source": [
    "# COSMOS2020 ML Classification Catalog - Column Descriptions\n",
    "\n",
    "## **Basic Identifiers**\n",
    "| Column | Format | Description |\n",
    "|--------|--------|-------------|\n",
    "| `ra` | float64 | Right Ascension (J2000) in decimal degrees |\n",
    "| `dec` | float64 | Declination (J2000) in decimal degrees |\n",
    "\n",
    "## **Observed Magnitudes** (AB system)\n",
    "| Column | Format | Description |\n",
    "|--------|--------|-------------|\n",
    "| `cfht_u_mag` | float32 | CFHT u-band magnitude |\n",
    "| `acs_f814w_mag` | float32 | HST/ACS F814W (I-band) magnitude |\n",
    "| `uvista_y_mag` | float32 | VISTA Y-band magnitude |\n",
    "| `uvista_j_mag` | float32 | VISTA J-band magnitude |\n",
    "| `uvista_h_mag` | float32 | VISTA H-band magnitude |\n",
    "| `uvista_ks_mag` | float32 | VISTA K<sub>s</sub>-band magnitude |\n",
    "| `irac_ch1_mag` | float32 | Spitzer/IRAC Channel 1 (3.6μm) magnitude |\n",
    "| `irac_ch2_mag` | float32 | Spitzer/IRAC Channel 2 (4.5μm) magnitude |\n",
    "\n",
    "## **Derived Properties**\n",
    "| Column | Format | Description |\n",
    "|--------|--------|-------------|\n",
    "| `lp_zbest` | float32 | Best-fit photometric redshift from LePhare |\n",
    "| `lp_mass_med` | float32 | Median stellar mass (log(M<sub>⋆</sub>/M<sub>⊙</sub>)) from SED fitting |\n",
    "| `lp_sfr_med` | float32 | Median star formation rate (log(SFR/M<sub>⊙</sub> yr<sup>-1</sup>)) from SED fitting |\n",
    "\n",
    "## **Classification Flags**\n",
    "| Column | Format | Description |\n",
    "|--------|--------|-------------|\n",
    "| `is_qg_ml` | bool | Machine learning classification (True=Quiescent, False=Star-forming) |\n",
    "| `is_qg_nuvrj` | bool | Traditional NUVrJ classification (True=Quiescent, False=Star-forming) |\n",
    "\n",
    "## **Notes**\n",
    "1. All magnitudes are in the AB system\n",
    "2. ML classifications come from the CatBoost model."
    "3. The mass completeness is not applied on this catalog."
   ]
  },
  {
   "cell_type": "code",
   "execution_count": null,
   "id": "82cb1de2",
   "metadata": {},
   "outputs": [],
   "source": []
  },
  {
   "cell_type": "code",
   "execution_count": null,
   "id": "13371a0f",
   "metadata": {},
   "outputs": [],
   "source": []
  },
  {
   "cell_type": "code",
   "execution_count": null,
   "id": "93c54f09",
   "metadata": {},
   "outputs": [],
   "source": []
  }
 ],
 "metadata": {
  "kernelspec": {
   "display_name": "Python 3",
   "language": "python",
   "name": "python3"
  },
  "language_info": {
   "codemirror_mode": {
    "name": "ipython",
    "version": 3
   },
   "file_extension": ".py",
   "mimetype": "text/x-python",
   "name": "python",
   "nbconvert_exporter": "python",
   "pygments_lexer": "ipython3",
   "version": "3.10.10"
  }
 },
 "nbformat": 4,
 "nbformat_minor": 5
}
