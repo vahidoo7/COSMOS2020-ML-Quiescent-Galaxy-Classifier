{
 "cells": [
  {
   "cell_type": "markdown",
   "id": "57e32d67",
   "metadata": {},
   "source": [
    "# COSMOS2020 Quiescent Galaxy Classifier"
   ]
  },
  {
   "cell_type": "code",
   "execution_count": null,
   "id": "1bd0a5fc",
   "metadata": {},
   "outputs": [],
   "source": []
  },
  {
   "cell_type": "markdown",
   "id": "0f190fda",
   "metadata": {},
   "source": [
    "### Needed Libraries"
   ]
  },
  {
   "cell_type": "code",
   "execution_count": 10,
   "id": "48bae1c3",
   "metadata": {},
   "outputs": [],
   "source": [
    "import pandas as pd\n",
    "import joblib\n",
    "import warnings\n",
    "warnings.filterwarnings('ignore')"
   ]
  },
  {
   "cell_type": "code",
   "execution_count": null,
   "id": "338fe165",
   "metadata": {},
   "outputs": [],
   "source": []
  },
  {
   "cell_type": "markdown",
   "id": "6d3ed4f1",
   "metadata": {},
   "source": [
    "### Needed Function"
   ]
  },
  {
   "cell_type": "code",
   "execution_count": 11,
   "id": "52506c26",
   "metadata": {},
   "outputs": [],
   "source": [
    "def calculate_pairwise_differences(data):\n",
    "    \"\"\"\n",
    "    Calculate all pairwise differences between columns in a DataFrame (using for deriving colors from bands).\n",
    "    \n",
    "    For each unique pair of columns (i,j) where i < j, creates a new column\n",
    "    named by concatenating the two column names, containing the element-wise\n",
    "    difference between column i and column j.\n",
    "    \n",
    "    Parameters:\n",
    "    -----------\n",
    "    data : pandas.DataFrame\n",
    "        Input DataFrame containing numerical columns to compare\n",
    "        \n",
    "    Returns:\n",
    "    --------\n",
    "    pandas.DataFrame\n",
    "        Original DataFrame with new columns added for each pairwise difference\n",
    "    \"\"\"\n",
    "    \n",
    "    ln = len(data.columns)  # Get number of columns in DataFrame\n",
    "    \n",
    "    # Iterate through all possible column pairs\n",
    "    for i in range(ln):\n",
    "        for j in range(ln):\n",
    "            if i < j:  # Ensure we only do unique pairs (i < j)\n",
    "                # Create new column name by concatenating the two column names\n",
    "                diff_name = f\"{data.columns[i]}{data.columns[j]}\"\n",
    "                \n",
    "                # Calculate and store the difference between columns i and j\n",
    "                data[diff_name] = data[data.columns[i]] - data[data.columns[j]]\n",
    "    \n",
    "    return data"
   ]
  },
  {
   "cell_type": "code",
   "execution_count": null,
   "id": "caa596ba",
   "metadata": {},
   "outputs": [],
   "source": []
  },
  {
   "cell_type": "markdown",
   "id": "6cc33cc1",
   "metadata": {},
   "source": [
    "### Loading Models"
   ]
  },
  {
   "cell_type": "code",
   "execution_count": 12,
   "id": "b29ba06d",
   "metadata": {},
   "outputs": [],
   "source": [
    "model = joblib.load('ML_Model_Classifier.pkl') # Load model classifier\n",
    "scaler = joblib.load('ML_Model_Scaler.pkl') # Load scaler fitted on training data"
   ]
  },
  {
   "cell_type": "code",
   "execution_count": null,
   "id": "3d962c3d",
   "metadata": {},
   "outputs": [],
   "source": []
  },
  {
   "cell_type": "markdown",
   "id": "18b6816a",
   "metadata": {},
   "source": [
    "### COSMOS2020 Data (0.2 < redshift < 3.5)"
   ]
  },
  {
   "cell_type": "code",
   "execution_count": 13,
   "id": "80215bab",
   "metadata": {},
   "outputs": [],
   "source": [
    "df = pd.read_csv('COSMOS2020_ml_classifications.csv.gz') # Load COSMOS2020 data\n",
    "\n",
    "selected_df = df[['cfht_u_mag', 'acs_f814w_mag', 'uvista_y_mag', 'uvista_j_mag', 'uvista_h_mag', \n",
    "                  'uvista_ks_mag', 'irac_ch1_mag', 'irac_ch2_mag']] # select 8 bands (Warning: Order is important)"
   ]
  },
  {
   "cell_type": "code",
   "execution_count": null,
   "id": "f5c52d24",
   "metadata": {},
   "outputs": [],
   "source": []
  },
  {
   "cell_type": "code",
   "execution_count": 14,
   "id": "c2e35492",
   "metadata": {},
   "outputs": [],
   "source": [
    "X_new = calculate_pairwise_differences(selected_df).iloc[:,8:] # Construct 28 colors form 8 selected bands\n",
    "\n",
    "X_new_scaled = scaler.transform(X_new.values) # # Scale the new galaxies using the previously fitted scaler (training data)\n",
    "\n",
    "y_new = model.predict(X_new_scaled) # Predict galaxy types: True for Quiescent, False for Star-forming"
   ]
  },
  {
   "cell_type": "code",
   "execution_count": 7,
   "id": "e0b664ce",
   "metadata": {},
   "outputs": [],
   "source": []
  },
  {
   "cell_type": "code",
   "execution_count": 15,
   "id": "c28b61cf",
   "metadata": {},
   "outputs": [
    {
     "name": "stdout",
     "output_type": "stream",
     "text": [
      "The number of quiescent galaxies: 36950 \n",
      "The number of star-forming galaxies: 328927\n"
     ]
    }
   ],
   "source": [
    "n_qg = sum(y_new) # Count quiescent galaxies\n",
    "\n",
    "n_sfg = len(y_new) - n_qg # Count star-forming galaxies\n",
    "\n",
    "print(f\"The number of quiescent galaxies: {n_qg} \\nThe number of star-forming galaxies: {n_sfg}\")"
   ]
  },
  {
   "cell_type": "code",
   "execution_count": null,
   "id": "d4ae4c24",
   "metadata": {},
   "outputs": [],
   "source": []
  }
 ],
 "metadata": {
  "kernelspec": {
   "display_name": "Python 3",
   "language": "python",
   "name": "python3"
  },
  "language_info": {
   "codemirror_mode": {
    "name": "ipython",
    "version": 3
   },
   "file_extension": ".py",
   "mimetype": "text/x-python",
   "name": "python",
   "nbconvert_exporter": "python",
   "pygments_lexer": "ipython3",
   "version": "3.10.10"
  }
 },
 "nbformat": 4,
 "nbformat_minor": 5
}
